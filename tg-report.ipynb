{
 "cells": [
  {
   "cell_type": "markdown",
   "execution_count": null,
   "metadata": {},
   "outputs": [],
   "source": [
    "<center><h1>Report on Telegram Messages\n",
    "   \n",
    "   </h1></center>"
   ]
  },
  {
   "cell_type": "markdown",
   "execution_count": null,
   "metadata": {},
   "outputs": [],
   "source": [
    "## Data Import and sort"
   ]
  },
  {
   "cell_type": "code",
   "execution_count": null,
   "metadata": {},
   "outputs": [],
   "source": [
    "import pandas as pd\n",
    "import datetime as datetime\n",
    "df = pd.read_csv('./chat_history.csv')\n",
    "df.sort_values(by=['date'], inplace=True)\n",
    "df"
   ]
  },
  {
   "cell_type": "markdown",
   "execution_count": null,
   "metadata": {},
   "outputs": [],
   "source": [
    "## Message-Date Chart"
   ]
  },
  {
   "cell_type": "code",
   "execution_count": null,
   "metadata": {},
   "outputs": [],
   "source": [
    "date_chat = df.groupby(df.date).count()\n",
    "date_chat = date_chat.drop(columns=['from_name','msg_text'])\n",
    "date_chat.head()"
   ]
  },
  {
   "cell_type": "markdown",
   "execution_count": null,
   "metadata": {},
   "outputs": [],
   "source": [
    "Let's draw the chart"
   ]
  },
  {
   "cell_type": "code",
   "execution_count": null,
   "metadata": {},
   "outputs": [],
   "source": [
    "date_chat.plot.bar(figsize=(20,5))\n"
   ]
  },
  {
   "cell_type": "markdown",
   "execution_count": null,
   "metadata": {},
   "outputs": [],
   "source": [
    "Find the maximum date"
   ]
  },
  {
   "cell_type": "code",
   "execution_count": null,
   "metadata": {},
   "outputs": [],
   "source": [
    "date_chat.sort_values(by=['time'], inplace=True)\n",
    "date_chat.tail(1)"
   ]
  },
  {
   "cell_type": "markdown",
   "execution_count": null,
   "metadata": {},
   "outputs": [],
   "source": [
    "## MessageRate-Hour Chart"
   ]
  },
  {
   "cell_type": "code",
   "execution_count": null,
   "metadata": {},
   "outputs": [],
   "source": [
    "messagerate_hour = df.groupby(df.time).count()\n",
    "messagerate_hour = messagerate_hour.drop(columns=['from_name','msg_text'])\n",
    "messagerate_hour = messagerate_hour.reset_index()\n",
    "messagerate_hour['time'] = pd.to_datetime(messagerate_hour['time'],format='%H:%M:%S').dt.hour\n",
    "messagerate_hour = messagerate_hour.groupby(messagerate_hour.time).count()\n",
    "messagerate_hour = messagerate_hour.drop(columns=['date'])\n",
    "messagerate_hour"
   ]
  },
  {
   "cell_type": "code",
   "execution_count": null,
   "metadata": {},
   "outputs": [],
   "source": [
    "messagerate_hour.plot(figsize=(20,6))"
   ]
  },
  {
   "cell_type": "markdown",
   "execution_count": null,
   "metadata": {},
   "outputs": [],
   "source": [
    "## Wordcloud"
   ]
  },
  {
   "cell_type": "code",
   "execution_count": null,
   "metadata": {},
   "outputs": [],
   "source": [
    "import jieba\n",
    "from wordcloud import WordCloud\n",
    "import matplotlib.pyplot as plt\n",
    "\n",
    "msg_string = []\n",
    "\n",
    "for msg in df['msg_text']:\n",
    "    ls = list(jieba.cut(msg))\n",
    "    msg_string += ls"
   ]
  },
  {
   "cell_type": "code",
   "execution_count": null,
   "metadata": {},
   "outputs": [],
   "source": [
    "msg_string = ''.join(msg_string)"
   ]
  },
  {
   "cell_type": "code",
   "execution_count": null,
   "metadata": {},
   "outputs": [],
   "source": [
    "font_path = \"/usr/share/fonts/adobe-source-han-sans-cn/SourceHanSansCN-Regular.otf\"\n",
    "wordcloud = WordCloud(collocations=False,font_path=font_path,width=2000,height=2000,background_color='white',min_font_size=10,margin=2).generate(msg_string).to_file(\"./cloud.png\")\n",
    "plt.imshow(wordcloud)\n",
    "plt.axis(\"off\")\n",
    "plt.tight_layout(pad=0)\n",
    "plt.show()"
   ]
  },
  {
   "cell_type": "code",
   "execution_count": null,
   "metadata": {},
   "outputs": [],
   "source": []
  }
 ],
 "metadata": {
  "kernelspec": {
   "display_name": "Python 3",
   "language": "python",
   "name": "python3"
  },
  "language_info": {
   "codemirror_mode": {
    "name": "ipython",
    "version": 3
   },
   "file_extension": ".py",
   "mimetype": "text/x-python",
   "name": "python",
   "nbconvert_exporter": "python",
   "pygments_lexer": "ipython3",
   "version": "3.7.6"
  }
 },
 "nbformat": 4,
 "nbformat_minor": 2
}
